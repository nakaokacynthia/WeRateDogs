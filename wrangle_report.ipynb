{
 "cells": [
  {
   "cell_type": "markdown",
   "id": "69324613",
   "metadata": {},
   "source": [
    "## WeRateDogs Wragle Report\n"
   ]
  },
  {
   "cell_type": "markdown",
   "id": "131050e7",
   "metadata": {},
   "source": [
    "In this report is documented all wrangling steps. All issues and efforts in the gather, assess and cleaning process will be listed."
   ]
  },
  {
   "cell_type": "markdown",
   "id": "6d89f904",
   "metadata": {},
   "source": [
    "## Data Gathering"
   ]
  },
  {
   "cell_type": "markdown",
   "id": "bcffa86b",
   "metadata": {},
   "source": [
    "There are three pieces of data in three differents sources. The firt one called **twitter_archive_enhanced.csv.** was provided by Udacity Data analyst Nanodegree course. The second called **image_predictions.tsv** also was provided by Udacity through the following link: https://d17h27t6h515a5.cloudfront.net/topher/2017/August/599fd2ad_image-predictions/image-predictions.tsv. The third and last one was gathered from the Twitter API and stored in a JSON file."
   ]
  },
  {
   "cell_type": "markdown",
   "id": "b79152ee",
   "metadata": {},
   "source": [
    "## Assessing Data"
   ]
  },
  {
   "cell_type": "markdown",
   "id": "a2134d5b",
   "metadata": {},
   "source": [
    "In this step we'll assess the data programmatically and visually. Will detective and documented all nine (9) quality issues and five (5) tidiness issues.\n"
   ]
  },
  {
   "cell_type": "markdown",
   "id": "2d02ea4c",
   "metadata": {},
   "source": [
    "## Cleaning Data"
   ]
  },
  {
   "cell_type": "markdown",
   "id": "8dd50833",
   "metadata": {},
   "source": [
    "In cleaning data step required a lot of time. The data were pretty messy, with a tons of missing data and mixed data. \n",
    "Were necessary use several of python libraries and formulas so we can prepare to have a more precise analysis ahead. \n",
    "\n",
    "According we were acessing and visualize the data it was found that it was necessary to make the following adjustments:\n",
    "\n",
    "### Quality issuues:\n",
    "\n",
    "#### Archive\n",
    "\n",
    "1. The timestamp field is in string format (object) and tweet_id is in int64 \n",
    "\n",
    "2. There are only 181 retweets (retweeted_status_id, retweeted_status_user_id, retweeted_status_timestamp)\n",
    "\n",
    "3. There are only 78 replies (in_reply_to_status_id, in_reply_to_user_id)\n",
    "\n",
    "4. There are missing values in the column expanded_urls\n",
    "\n",
    "5. Column name floofer should be spelled 'floof'\n",
    "\n",
    "6. Dogs with no name in the description have given names of \"a\", \"an\" and \"None\" instead of \"NaN\"\n",
    "\n",
    "7. In the column rating_denominator there are votes greater than 10 \n",
    "\n",
    "8. Drop unnecessary columns\n",
    "\n",
    "#### Predictions\n",
    "\n",
    "9. The types of dogs in columns p1, p2, and p3 have some lowercase and uppercase letters\n",
    "\n",
    "10. The tweet_id field is in int64, should be in string format\n",
    "\n",
    "#### Tweets\n",
    "\n",
    "11. Rename the column 'id' to 'tweet_id' to facilitate merging\n",
    "\n",
    "12. Clean up text column to show only the text\n",
    "\n",
    "\n",
    "### Tidiness issues\n",
    "\n",
    "#### Archive\n",
    "\n",
    "1. Several columns representing the same category, which is divided into \"doggo\", \"flooter\", \"pupper\", \"puppo\" columns, but we need only one column to represent this classifications\n",
    "\n",
    "2. Merge all tables to realize any analysis"
   ]
  },
  {
   "cell_type": "code",
   "execution_count": null,
   "id": "b2530fef",
   "metadata": {},
   "outputs": [],
   "source": []
  }
 ],
 "metadata": {
  "kernelspec": {
   "display_name": "Python 3",
   "language": "python",
   "name": "python3"
  },
  "language_info": {
   "codemirror_mode": {
    "name": "ipython",
    "version": 3
   },
   "file_extension": ".py",
   "mimetype": "text/x-python",
   "name": "python",
   "nbconvert_exporter": "python",
   "pygments_lexer": "ipython3",
   "version": "3.8.8"
  }
 },
 "nbformat": 4,
 "nbformat_minor": 5
}
