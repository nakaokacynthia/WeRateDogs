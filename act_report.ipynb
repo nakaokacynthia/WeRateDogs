{
 "cells": [
  {
   "cell_type": "markdown",
   "id": "29aad2ab",
   "metadata": {},
   "source": [
    "## WeRateDogs Act Report\n"
   ]
  },
  {
   "cell_type": "markdown",
   "id": "a25f0f98",
   "metadata": {},
   "source": [
    "## We rate dogs data\n",
    "\n",
    "People who have animals have always loved to talk about them and take lots of pictures. In the rate dogs twitter these people who have animals find a common place to fall in love, laugh and brighten their day with photos and comments of various dogs.\n",
    "Through these movements we can collect various data to better understand the characteristics of favorite animals and also the behavior of this community.\n",
    "\n",
    "In this report we will analyse and visualize the wrangled data collected.\n",
    "After doing all the gathering, assessing and cleaning the data, the content that was in the merged table was better to do some analysis.\n",
    "\n",
    "We found three insights that are found programmatically and two found visually for quality and tidiness issues:\n"
   ]
  },
  {
   "cell_type": "markdown",
   "id": "39fd4816",
   "metadata": {},
   "source": [
    "### Insights\n",
    "\n",
    "1. The quantity of people who favorite the posts is 2.039 times higher than people that retweet the posts. This shows a preference of just favorite the posts rather than retweeting them.\n",
    "\n",
    "2. There are a strong correlation between the favorites counts and retweets. To be more precise the correlation is 0.801345. To evidence better, the most retweeted and favorite dog is a doggo labrador retriever who received 72474 retweets and 147742 favorites votes. His ID is 744234799360020481.\n",
    "\n",
    "3. The most common dog breeds are golden retriever, labrador retriever and pembroke, respectively. They receive the most favorite counts too. In my country, in Brasil, we can see in the streets and public garden this preferences. Most dog breeds are retrievers!\n",
    "\n",
    "\n",
    "4. We can have a visual look in the Daily tweets by favorite count chart and verify a positive trend in the amount of favorite tweets over time. This makes sense because of popularity and increase of the twitters counts and social media.\n",
    "\n",
    "5. In the cloud chart we can see that the word pooper, dog, pup and meet are the most frequently written in the twitters posts. It matches with the most popular dog stages found in the We Rate Dogs data.\n",
    "\n",
    "\n",
    "\n"
   ]
  },
  {
   "cell_type": "code",
   "execution_count": null,
   "id": "5ee4efaf",
   "metadata": {},
   "outputs": [],
   "source": []
  }
 ],
 "metadata": {
  "kernelspec": {
   "display_name": "Python 3",
   "language": "python",
   "name": "python3"
  },
  "language_info": {
   "codemirror_mode": {
    "name": "ipython",
    "version": 3
   },
   "file_extension": ".py",
   "mimetype": "text/x-python",
   "name": "python",
   "nbconvert_exporter": "python",
   "pygments_lexer": "ipython3",
   "version": "3.8.8"
  }
 },
 "nbformat": 4,
 "nbformat_minor": 5
}
